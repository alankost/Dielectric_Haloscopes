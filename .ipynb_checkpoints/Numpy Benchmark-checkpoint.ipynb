{
 "cells": [
  {
   "cell_type": "code",
   "execution_count": 22,
   "id": "27543f57-b194-48b0-853b-e4a60d1e22a9",
   "metadata": {},
   "outputs": [
    {
     "name": "stdout",
     "output_type": "stream",
     "text": [
      "Elapsed time =  1.8302865028381348\n"
     ]
    }
   ],
   "source": [
    "import numpy as np\n",
    "import time\n",
    "t1 = time.time()\n",
    "arr = np.linspace(0,10,20000)\n",
    "for i in range (70000):\n",
    "     arr2 = np.cos(arr)\n",
    "t2 = time.time()\n",
    "print (\"Elapsed time = \", t2-t1)"
   ]
  },
  {
   "cell_type": "code",
   "execution_count": 21,
   "id": "d14b9ef5-1142-41b9-abe6-dda2dbfc5e72",
   "metadata": {},
   "outputs": [
    {
     "name": "stdout",
     "output_type": "stream",
     "text": [
      "Elapsed time =  1.9397532939910889\n",
      "Elapsed time =  1.8675923347473145\n"
     ]
    }
   ],
   "source": [
    "from numba import jit\n",
    "import numpy as np\n",
    "import time\n",
    "arr = np.linspace(0,10,20000)\n",
    "@jit(nopython=True)\n",
    "def loop_function():\n",
    "    for i in range (70000):\n",
    "        arr2 = np.cos(arr)\n",
    "t1 = time.time()\n",
    "loop_function()\n",
    "t2 = time.time()\n",
    "print (\"Elapsed time = \", t2-t1)\n",
    "\n",
    "t1 = time.time()\n",
    "loop_function()\n",
    "t2 = time.time()\n",
    "print (\"Elapsed time = \", t2-t1)"
   ]
  },
  {
   "cell_type": "code",
   "execution_count": null,
   "id": "4b1de462-034b-4487-99a6-6f193b06141a",
   "metadata": {},
   "outputs": [],
   "source": []
  }
 ],
 "metadata": {
  "kernelspec": {
   "display_name": "Python 3 (ipykernel)",
   "language": "python",
   "name": "python3"
  },
  "language_info": {
   "codemirror_mode": {
    "name": "ipython",
    "version": 3
   },
   "file_extension": ".py",
   "mimetype": "text/x-python",
   "name": "python",
   "nbconvert_exporter": "python",
   "pygments_lexer": "ipython3",
   "version": "3.9.12"
  }
 },
 "nbformat": 4,
 "nbformat_minor": 5
}
